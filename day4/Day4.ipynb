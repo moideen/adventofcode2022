{
 "cells": [
  {
   "cell_type": "code",
   "execution_count": 1,
   "id": "730bc9af",
   "metadata": {},
   "outputs": [],
   "source": [
    "# Advent of Code 2022 - Day 4\n",
    "# Moideen Kalladi\n",
    "\n",
    "# open and read input file\n",
    "with open(\"input.txt\", \"r\") as f:\n",
    "    lines = f.read().split(\"\\n\")[:-1]"
   ]
  },
  {
   "cell_type": "code",
   "execution_count": 2,
   "id": "060f5019",
   "metadata": {},
   "outputs": [
    {
     "data": {
      "text/plain": [
       "['96-99,84-97', '8-58,32-58', '11-57,5-58', '63-98,62-92', '']"
      ]
     },
     "execution_count": 2,
     "metadata": {},
     "output_type": "execute_result"
    }
   ],
   "source": [
    "# check the last few\n",
    "lines[-5:]"
   ]
  },
  {
   "cell_type": "code",
   "execution_count": 3,
   "id": "4ae6e6ff",
   "metadata": {},
   "outputs": [],
   "source": [
    "# still an empty at the end, will need to ignore it"
   ]
  },
  {
   "cell_type": "code",
   "execution_count": 4,
   "id": "8c8f9437",
   "metadata": {},
   "outputs": [],
   "source": [
    "def fully_contains(pair_string: str) -> int:\n",
    "    \"\"\"Split a line of input into its two parts, check if one contains the other.\"\"\"\n",
    "    if pair_string == \"\":\n",
    "        return 0\n",
    "\n",
    "    pair = pair_string.split(\",\")\n",
    "    bounds = [(int(p.split(\"-\")[0]), int(p.split(\"-\")[1])) for p in pair]\n",
    "\n",
    "    # fully contained if lower bound 1 >= lower bound 2 and upper bound of 1 <= upper bound 2\n",
    "    # or vice versa\n",
    "\n",
    "    if (bounds[0][0] >= bounds[1][0] and bounds[0][1] <= bounds[1][1]) or (\n",
    "        bounds[1][0] >= bounds[0][0] and bounds[1][1] <= bounds[0][1]\n",
    "    ):\n",
    "        return 1\n",
    "    return 0"
   ]
  },
  {
   "cell_type": "code",
   "execution_count": 5,
   "id": "66eb4bca",
   "metadata": {},
   "outputs": [
    {
     "data": {
      "text/plain": [
       "500"
      ]
     },
     "execution_count": 5,
     "metadata": {},
     "output_type": "execute_result"
    }
   ],
   "source": [
    "sum([fully_contains(l) for l in lines])"
   ]
  },
  {
   "cell_type": "code",
   "execution_count": 6,
   "id": "ed2f42bc",
   "metadata": {},
   "outputs": [],
   "source": [
    "# part two"
   ]
  },
  {
   "cell_type": "code",
   "execution_count": 7,
   "id": "7c584543",
   "metadata": {},
   "outputs": [],
   "source": [
    "def any_overlap(pair_string: str) -> int:\n",
    "    \"\"\"Split a line of input into its two parts, check if one overlaps at all with the other.\"\"\"\n",
    "    if pair_string == \"\":\n",
    "        return 0\n",
    "\n",
    "    pair = pair_string.split(\",\")\n",
    "    bounds = [(int(p.split(\"-\")[0]), int(p.split(\"-\")[1])) for p in pair]\n",
    "\n",
    "    # overlap if upper bound of 1 >= lower bound of 2 and lower bound of 1 <= upper bound of 2\n",
    "\n",
    "    if (bounds[0][1] >= bounds[1][0] and bounds[0][0] <= bounds[1][1]):\n",
    "        return 1\n",
    "    return 0"
   ]
  },
  {
   "cell_type": "code",
   "execution_count": 8,
   "id": "49a98d9c",
   "metadata": {},
   "outputs": [
    {
     "data": {
      "text/plain": [
       "815"
      ]
     },
     "execution_count": 8,
     "metadata": {},
     "output_type": "execute_result"
    }
   ],
   "source": [
    "sum([any_overlap(l) for l in lines])"
   ]
  }
 ],
 "metadata": {
  "kernelspec": {
   "display_name": "Python [conda env:root] *",
   "language": "python",
   "name": "conda-root-py"
  },
  "language_info": {
   "codemirror_mode": {
    "name": "ipython",
    "version": 3
   },
   "file_extension": ".py",
   "mimetype": "text/x-python",
   "name": "python",
   "nbconvert_exporter": "python",
   "pygments_lexer": "ipython3",
   "version": "3.7.9"
  }
 },
 "nbformat": 4,
 "nbformat_minor": 5
}
