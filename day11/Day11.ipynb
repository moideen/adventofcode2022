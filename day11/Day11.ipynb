{
 "cells": [
  {
   "cell_type": "code",
   "execution_count": 2,
   "id": "f9397737",
   "metadata": {},
   "outputs": [],
   "source": [
    "# Advent of Code 2022 - Day 11\n",
    "# Moideen Kalladi\n",
    "\n",
    "# input data\n",
    "_ = \"\"\"\n",
    "Monkey 0:\n",
    "  Starting items: 85, 77, 77\n",
    "  Operation: new = old * 7\n",
    "  Test: divisible by 19\n",
    "    If true: throw to monkey 6\n",
    "    If false: throw to monkey 7\n",
    "\n",
    "Monkey 1:\n",
    "  Starting items: 80, 99\n",
    "  Operation: new = old * 11\n",
    "  Test: divisible by 3\n",
    "    If true: throw to monkey 3\n",
    "    If false: throw to monkey 5\n",
    "\n",
    "Monkey 2:\n",
    "  Starting items: 74, 60, 74, 63, 86, 92, 80\n",
    "  Operation: new = old + 8\n",
    "  Test: divisible by 13\n",
    "    If true: throw to monkey 0\n",
    "    If false: throw to monkey 6\n",
    "\n",
    "Monkey 3:\n",
    "  Starting items: 71, 58, 93, 65, 80, 68, 54, 71\n",
    "  Operation: new = old + 7\n",
    "  Test: divisible by 7\n",
    "    If true: throw to monkey 2\n",
    "    If false: throw to monkey 4\n",
    "\n",
    "Monkey 4:\n",
    "  Starting items: 97, 56, 79, 65, 58\n",
    "  Operation: new = old + 5\n",
    "  Test: divisible by 5\n",
    "    If true: throw to monkey 2\n",
    "    If false: throw to monkey 0\n",
    "\n",
    "Monkey 5:\n",
    "  Starting items: 77\n",
    "  Operation: new = old + 4\n",
    "  Test: divisible by 11\n",
    "    If true: throw to monkey 4\n",
    "    If false: throw to monkey 3\n",
    "\n",
    "Monkey 6:\n",
    "  Starting items: 99, 90, 84, 50\n",
    "  Operation: new = old * old\n",
    "  Test: divisible by 17\n",
    "    If true: throw to monkey 7\n",
    "    If false: throw to monkey 1\n",
    "\n",
    "Monkey 7:\n",
    "  Starting items: 50, 66, 61, 92, 64, 78\n",
    "  Operation: new = old + 3\n",
    "  Test: divisible by 2\n",
    "    If true: throw to monkey 5\n",
    "    If false: throw to monkey 1\n",
    "\"\"\""
   ]
  },
  {
   "cell_type": "code",
   "execution_count": 3,
   "id": "5b99cdb7",
   "metadata": {},
   "outputs": [],
   "source": [
    "class Item:\n",
    "    worry = 0\n",
    "    \n",
    "    def __init__(self, init_worry):\n",
    "        self.worry = init_worry"
   ]
  },
  {
   "cell_type": "code",
   "execution_count": 4,
   "id": "c6dde191",
   "metadata": {},
   "outputs": [],
   "source": [
    "monkeys = []"
   ]
  },
  {
   "cell_type": "code",
   "execution_count": 9,
   "id": "221082c9",
   "metadata": {},
   "outputs": [],
   "source": [
    "class Monkey:\n",
    "    number = None\n",
    "    items = None\n",
    "    operation = None\n",
    "    test_divisor = 0\n",
    "    succeed_throw_to = None\n",
    "    fail_throw_to = None\n",
    "    inspect_counter = 0\n",
    "    \n",
    "    def __init__(self, m_number, m_items, m_operation, m_test_divisor, m_succeed, m_fail):\n",
    "        self.number = m_number\n",
    "        self.items = m_items\n",
    "        self.operation = m_operation\n",
    "        self.test_divisor = m_test_divisor\n",
    "        self.succeed_throw_to = m_succeed\n",
    "        self.fail_throw_to = m_fail\n",
    "        self.inspect_counter = 0\n",
    "    \n",
    "    def process_item(self):\n",
    "        top_item = self.items[0]\n",
    "        top_item.worry = self.operation(top_item.worry)\n",
    "        top_item.worry = int(top_item.worry / 3)\n",
    "        \n",
    "        throw_to = self.fail_throw_to\n",
    "        if top_item.worry % self.test_divisor == 0:\n",
    "            throw_to = self.succeed_throw_to\n",
    "        \n",
    "        monkeys[throw_to].items.append(Item(top_item.worry))\n",
    "        self.items = self.items[1:]\n",
    "        \n",
    "        self.inspect_counter += 1\n",
    "    \n",
    "    def process_all_items(self):\n",
    "        item_count = len(self.items)\n",
    "        for i in range(item_count):\n",
    "            self.process_item()"
   ]
  },
  {
   "cell_type": "code",
   "execution_count": 10,
   "id": "7218cd50",
   "metadata": {},
   "outputs": [],
   "source": [
    "# add 8 monkeys\n",
    "monkeys = []\n",
    "\n",
    "# monkey 0\n",
    "monkeys.append(Monkey(0, [Item(85), Item(77), Item(77)], lambda x : x * 7, 19, 6, 7))\n",
    "\n",
    "# monkey 1\n",
    "monkeys.append(Monkey(1, [Item(80), Item(99)], lambda x : x * 11, 3, 3, 5))\n",
    "\n",
    "# monkey 2\n",
    "monkeys.append(Monkey(2, [Item(74), Item(60), Item(74), Item(63), Item(86), Item(92), Item(80)], lambda x : x + 8, 13, 0, 6))\n",
    "\n",
    "# monkey 3\n",
    "monkeys.append(Monkey(3, [Item(71), Item(58), Item(93), Item(65), Item(80), Item(68), Item(54), Item(71)], lambda x : x + 7, 7, 2, 4))\n",
    "\n",
    "# monkey 4\n",
    "monkeys.append(Monkey(4, [Item(97), Item(56), Item(79), Item(65), Item(58)], lambda x : x + 5, 5, 2, 0))\n",
    "\n",
    "# monkey 5\n",
    "monkeys.append(Monkey(5, [Item(77)], lambda x : x + 4, 11, 4, 3))\n",
    "\n",
    "# monkey 6\n",
    "monkeys.append(Monkey(6, [Item(99), Item(90), Item(84), Item(50)], lambda x : x * x, 17, 7, 1))\n",
    "\n",
    "# monkey 7\n",
    "monkeys.append(Monkey(7, [Item(50), Item(66), Item(61), Item(92), Item(64), Item(78)], lambda x : x + 3, 2, 5, 1))"
   ]
  },
  {
   "cell_type": "code",
   "execution_count": 11,
   "id": "741e01eb",
   "metadata": {},
   "outputs": [
    {
     "name": "stdout",
     "output_type": "stream",
     "text": [
      "0 217\n",
      "1 112\n",
      "2 37\n",
      "3 232\n",
      "4 236\n",
      "5 205\n",
      "6 41\n",
      "7 225\n"
     ]
    }
   ],
   "source": [
    "for j in range(20):\n",
    "    for monkey in monkeys:\n",
    "        monkey.process_all_items()\n",
    "\n",
    "for monkey in monkeys:\n",
    "    print(monkey.number, monkey.inspect_counter)"
   ]
  },
  {
   "cell_type": "code",
   "execution_count": 12,
   "id": "d75b46f7",
   "metadata": {},
   "outputs": [
    {
     "data": {
      "text/plain": [
       "54752"
      ]
     },
     "execution_count": 12,
     "metadata": {},
     "output_type": "execute_result"
    }
   ],
   "source": [
    "236 * 232"
   ]
  }
 ],
 "metadata": {
  "kernelspec": {
   "display_name": "Python [conda env:root] *",
   "language": "python",
   "name": "conda-root-py"
  },
  "language_info": {
   "codemirror_mode": {
    "name": "ipython",
    "version": 3
   },
   "file_extension": ".py",
   "mimetype": "text/x-python",
   "name": "python",
   "nbconvert_exporter": "python",
   "pygments_lexer": "ipython3",
   "version": "3.7.9"
  }
 },
 "nbformat": 4,
 "nbformat_minor": 5
}
