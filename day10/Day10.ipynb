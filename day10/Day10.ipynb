{
 "cells": [
  {
   "cell_type": "code",
   "execution_count": 1,
   "id": "b8294404",
   "metadata": {},
   "outputs": [],
   "source": [
    "# Advent of Code 2022 - Day 10\n",
    "# Moideen Kalladi\n",
    "\n",
    "# open and read input file\n",
    "with open(\"input.txt\", \"r\") as f:\n",
    "    lines = f.read().split(\"\\n\")"
   ]
  },
  {
   "cell_type": "code",
   "execution_count": 4,
   "id": "0b4db9e7",
   "metadata": {},
   "outputs": [],
   "source": [
    "interesting_signal_strengths = []\n",
    "\n",
    "def check_signal(cycle_number, x):\n",
    "    if cycle_number in (20,60,100,140,180,220):\n",
    "        interesting_signal_strengths.append(cycle_number * x)\n",
    "        print(cycle_number, x, cycle_number * x)\n",
    "\n",
    "def process_lines(lines=lines):\n",
    "    \n",
    "    cycle_number = 1\n",
    "    x = 1\n",
    "    \n",
    "    for line in lines:\n",
    "        if line == \"\":\n",
    "            continue\n",
    "        if line == \"noop\":\n",
    "            check_signal(cycle_number, x)\n",
    "            cycle_number += 1\n",
    "            continue\n",
    "        \n",
    "        check_signal(cycle_number, x)\n",
    "        cycle_number += 1\n",
    "        check_signal(cycle_number, x)\n",
    "        cycle_number += 1\n",
    "        \n",
    "        to_add = int(line.split(\" \")[1])\n",
    "        x += to_add\n"
   ]
  },
  {
   "cell_type": "code",
   "execution_count": 5,
   "id": "63675dba",
   "metadata": {},
   "outputs": [
    {
     "name": "stdout",
     "output_type": "stream",
     "text": [
      "20 38 760\n",
      "60 21 1260\n",
      "100 21 2100\n",
      "140 8 1120\n",
      "180 21 3780\n",
      "220 22 4840\n"
     ]
    }
   ],
   "source": [
    "process_lines()"
   ]
  },
  {
   "cell_type": "code",
   "execution_count": 7,
   "id": "eeaf6ea1",
   "metadata": {},
   "outputs": [
    {
     "data": {
      "text/plain": [
       "13860"
      ]
     },
     "execution_count": 7,
     "metadata": {},
     "output_type": "execute_result"
    }
   ],
   "source": [
    "sum(interesting_signal_strengths)"
   ]
  },
  {
   "cell_type": "code",
   "execution_count": 8,
   "id": "824c330d",
   "metadata": {},
   "outputs": [],
   "source": [
    "# part 2"
   ]
  },
  {
   "cell_type": "code",
   "execution_count": 12,
   "id": "4442fe7c",
   "metadata": {},
   "outputs": [],
   "source": [
    "def process_lines_2(lines=lines):\n",
    "    \n",
    "    cycle_number = 1\n",
    "    x = 1\n",
    "    sprite_position = [x-1,x,x+1]\n",
    "    crt_row = \"\"\n",
    "    pixel_counter = 0\n",
    "    \n",
    "    for line in lines:\n",
    "        if line == \"\":\n",
    "            continue\n",
    "        if line == \"noop\":\n",
    "            if pixel_counter in sprite_position:\n",
    "                crt_row += \"#\"\n",
    "            else:\n",
    "                crt_row += \"-\"\n",
    "            pixel_counter += 1\n",
    "            if pixel_counter == 40:\n",
    "                pixel_counter = 0\n",
    "                print(crt_row)\n",
    "                crt_row = \"\"\n",
    "            cycle_number += 1\n",
    "            continue\n",
    "        \n",
    "        for i in range(2):\n",
    "            if pixel_counter in sprite_position:\n",
    "                crt_row += \"#\"\n",
    "            else:\n",
    "                crt_row += \"-\"\n",
    "            pixel_counter += 1\n",
    "            if pixel_counter == 40:\n",
    "                pixel_counter = 0\n",
    "                print(crt_row)\n",
    "                crt_row = \"\"\n",
    "            cycle_number += 1\n",
    "        \n",
    "        to_add = int(line.split(\" \")[1])\n",
    "        x += to_add\n",
    "        sprite_position = [x-1,x,x+1]"
   ]
  },
  {
   "cell_type": "code",
   "execution_count": 13,
   "id": "453d5d06",
   "metadata": {},
   "outputs": [
    {
     "name": "stdout",
     "output_type": "stream",
     "text": [
      "###--####-#--#-####--##----##--##--###--\n",
      "#--#----#-#--#-#----#--#----#-#--#-#--#-\n",
      "#--#---#--####-###--#-------#-#----###--\n",
      "###---#---#--#-#----#-##----#-#----#--#-\n",
      "#-#--#----#--#-#----#--#-#--#-#--#-#--#-\n",
      "#--#-####-#--#-#-----###--##---##--###--\n"
     ]
    }
   ],
   "source": [
    "process_lines_2()"
   ]
  }
 ],
 "metadata": {
  "kernelspec": {
   "display_name": "Python [conda env:root] *",
   "language": "python",
   "name": "conda-root-py"
  },
  "language_info": {
   "codemirror_mode": {
    "name": "ipython",
    "version": 3
   },
   "file_extension": ".py",
   "mimetype": "text/x-python",
   "name": "python",
   "nbconvert_exporter": "python",
   "pygments_lexer": "ipython3",
   "version": "3.7.9"
  }
 },
 "nbformat": 4,
 "nbformat_minor": 5
}
