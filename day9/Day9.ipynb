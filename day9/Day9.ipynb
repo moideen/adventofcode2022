{
 "cells": [
  {
   "cell_type": "code",
   "execution_count": 28,
   "id": "abe2a514",
   "metadata": {},
   "outputs": [],
   "source": [
    "# Advent of Code 2022 - Day 9\n",
    "# Moideen Kalladi\n",
    "\n",
    "# open and read input file\n",
    "with open(\"input.txt\", \"r\") as f:\n",
    "    lines = f.read().split(\"\\n\")"
   ]
  },
  {
   "cell_type": "code",
   "execution_count": 2,
   "id": "7119a4bf",
   "metadata": {},
   "outputs": [],
   "source": [
    "# this seems straightforward, just tricky case statements for where the tail moves"
   ]
  },
  {
   "cell_type": "code",
   "execution_count": 39,
   "id": "0abed3ee",
   "metadata": {},
   "outputs": [],
   "source": [
    "positions_visited = {(0,0)}\n",
    "\n",
    "current_head_position = (0,0)\n",
    "current_tail_position = (0,0)\n",
    "\n",
    "def move_position(curr, direc):\n",
    "    if direc == \"U\":\n",
    "        return (curr[0],curr[1]+1)\n",
    "    if direc == \"D\":\n",
    "        return (curr[0],curr[1]-1)\n",
    "    if direc == \"L\":\n",
    "        return (curr[0]-1,curr[1])\n",
    "    if direc == \"R\":\n",
    "        return (curr[0]+1, curr[1])\n",
    "\n",
    "def move_tail(head_pos, tail_pos):\n",
    "    horizontal_distance = head_pos[0] - tail_pos[0]\n",
    "    vertical_distance = head_pos[1] - tail_pos[1]\n",
    "    \n",
    "    if horizontal_distance == 2 or horizontal_distance == -2:\n",
    "        if vertical_distance == 2 or vertical_distance == -2:\n",
    "            vertical_distance = int(vertical_distance / 2)\n",
    "        return (tail_pos[0] + int(horizontal_distance / 2), tail_pos[1] + vertical_distance)\n",
    "\n",
    "    if vertical_distance == 2 or vertical_distance == -2:\n",
    "        if horizontal_distance == 2 or horizontal_distance == -2:\n",
    "            horizontal_distance = int(horizontal_distance / 2)\n",
    "        return (tail_pos[0] + horizontal_distance, tail_pos[1] + int(vertical_distance / 2))\n",
    "\n",
    "    return tail_pos\n"
   ]
  },
  {
   "cell_type": "code",
   "execution_count": 40,
   "id": "393ffd3a",
   "metadata": {},
   "outputs": [
    {
     "name": "stdout",
     "output_type": "stream",
     "text": [
      "5513\n"
     ]
    }
   ],
   "source": [
    "for line in lines:\n",
    "    if line == \"\":\n",
    "        continue\n",
    "    \n",
    "    # parse line\n",
    "    lparts = line.split(\" \")\n",
    "    direction = lparts[0]\n",
    "    n_steps = int(lparts[1])\n",
    "    \n",
    "    for i in range(n_steps):\n",
    "        current_head_position = move_position(current_head_position, direction)\n",
    "        current_tail_position = move_tail(current_head_position, current_tail_position)\n",
    "        positions_visited.add(current_tail_position)\n",
    "\n",
    "print(len(list(positions_visited)))"
   ]
  },
  {
   "cell_type": "code",
   "execution_count": 10,
   "id": "5ffaca7c",
   "metadata": {},
   "outputs": [],
   "source": [
    "# part 2 -- now we have 10 knots"
   ]
  },
  {
   "cell_type": "code",
   "execution_count": 41,
   "id": "a3755da3",
   "metadata": {},
   "outputs": [
    {
     "name": "stdout",
     "output_type": "stream",
     "text": [
      "2427\n"
     ]
    }
   ],
   "source": [
    "positions_visited = {(0,0)}\n",
    "\n",
    "current_knot_position = [(0,0) for i in range(10)]\n",
    "\n",
    "for line in lines:\n",
    "    if line == \"\":\n",
    "        continue\n",
    "    \n",
    "    # parse line\n",
    "    lparts = line.split(\" \")\n",
    "    direction = lparts[0]\n",
    "    n_steps = int(lparts[1])\n",
    "    \n",
    "    for i in range(n_steps):\n",
    "        current_knot_position[0] = move_position(current_knot_position[0], direction)\n",
    "        \n",
    "        for j in range(9):\n",
    "            current_knot_position[j+1] = move_tail(current_knot_position[j], current_knot_position[j+1])\n",
    "        \n",
    "        positions_visited.add(current_knot_position[9])\n",
    "\n",
    "#current_knot_position\n",
    "print(len(list(positions_visited)))"
   ]
  },
  {
   "cell_type": "markdown",
   "id": "40485403",
   "metadata": {},
   "source": [
    "---\n",
    "# Sandbox\n",
    "---"
   ]
  },
  {
   "cell_type": "code",
   "execution_count": 12,
   "id": "5738ecc9",
   "metadata": {},
   "outputs": [
    {
     "data": {
      "text/plain": [
       "[(-400, 82),\n",
       " (-400, 83),\n",
       " (-400, 84),\n",
       " (-400, 85),\n",
       " (-399, 86),\n",
       " (-399, 86),\n",
       " (-400, 86),\n",
       " (-401, 86),\n",
       " (-402, 86),\n",
       " (-403, 86)]"
      ]
     },
     "execution_count": 12,
     "metadata": {},
     "output_type": "execute_result"
    }
   ],
   "source": [
    "current_knot_position"
   ]
  },
  {
   "cell_type": "code",
   "execution_count": 33,
   "id": "5ea61481",
   "metadata": {},
   "outputs": [],
   "source": [
    "def process_lines(lines, debug=False):\n",
    "    positions_visited = {(0,0)}\n",
    "\n",
    "    current_knot_position = [(0,0) for i in range(10)]\n",
    "\n",
    "    for line in lines:\n",
    "        if line == \"\":\n",
    "            continue\n",
    "\n",
    "        # parse line\n",
    "        lparts = line.split(\" \")\n",
    "        direction = lparts[0]\n",
    "        n_steps = int(lparts[1])\n",
    "\n",
    "        for i in range(n_steps):\n",
    "            current_knot_position[0] = move_position(current_knot_position[0], direction)\n",
    "\n",
    "            for j in range(9):\n",
    "                current_knot_position[j+1] = move_tail(current_knot_position[j], current_knot_position[j+1])\n",
    "\n",
    "            positions_visited.add(current_knot_position[9])\n",
    "\n",
    "    print(len(list(positions_visited)))\n",
    "    \n",
    "    if debug:\n",
    "        print(f\"Knots: {current_knot_position}\")\n",
    "        print(f\"Tail Positions: {list(positions_visited)}\")"
   ]
  },
  {
   "cell_type": "code",
   "execution_count": 17,
   "id": "7247542c",
   "metadata": {},
   "outputs": [
    {
     "data": {
      "text/plain": [
       "['R 5', 'U 8', 'L 8', 'D 3', 'R 17', 'D 10', 'L 25', 'U 20']"
      ]
     },
     "execution_count": 17,
     "metadata": {},
     "output_type": "execute_result"
    }
   ],
   "source": [
    "testlines = \"\"\"R 5\n",
    "U 8\n",
    "L 8\n",
    "D 3\n",
    "R 17\n",
    "D 10\n",
    "L 25\n",
    "U 20\"\"\".split(\"\\n\")\n",
    "testlines"
   ]
  },
  {
   "cell_type": "code",
   "execution_count": 31,
   "id": "a25146b5",
   "metadata": {},
   "outputs": [
    {
     "name": "stdout",
     "output_type": "stream",
     "text": [
      "36\n"
     ]
    }
   ],
   "source": [
    "process_lines(testlines)"
   ]
  },
  {
   "cell_type": "code",
   "execution_count": 32,
   "id": "c897c939",
   "metadata": {},
   "outputs": [
    {
     "name": "stdout",
     "output_type": "stream",
     "text": [
      "2185\n"
     ]
    }
   ],
   "source": [
    "process_lines(lines)"
   ]
  },
  {
   "cell_type": "code",
   "execution_count": 21,
   "id": "73b8ac75",
   "metadata": {},
   "outputs": [
    {
     "data": {
      "text/plain": [
       "['R 4', 'U 4', 'L 3', 'D 1', 'R 4', 'D 1', 'L 5', 'R 2']"
      ]
     },
     "execution_count": 21,
     "metadata": {},
     "output_type": "execute_result"
    }
   ],
   "source": [
    "testlines2 = \"\"\"R 4\n",
    "U 4\n",
    "L 3\n",
    "D 1\n",
    "R 4\n",
    "D 1\n",
    "L 5\n",
    "R 2\"\"\".split(\"\\n\")\n",
    "testlines2"
   ]
  },
  {
   "cell_type": "code",
   "execution_count": 34,
   "id": "bc26617f",
   "metadata": {},
   "outputs": [
    {
     "name": "stdout",
     "output_type": "stream",
     "text": [
      "1\n",
      "Knots: [(2, 2), (1, 2), (2, 2), (3, 2), (2, 2), (1, 2), (1, 1), (0, 0), (0, 0), (0, 0)]\n",
      "Tail Positions: [(0, 0)]\n"
     ]
    }
   ],
   "source": [
    "process_lines(testlines2, debug=True)"
   ]
  },
  {
   "cell_type": "code",
   "execution_count": null,
   "id": "f4d37fd7",
   "metadata": {},
   "outputs": [],
   "source": [
    "# hmm what is going on?"
   ]
  },
  {
   "cell_type": "code",
   "execution_count": 37,
   "id": "537ce028",
   "metadata": {},
   "outputs": [
    {
     "name": "stdout",
     "output_type": "stream",
     "text": [
      "1\n",
      "Knots: [(4, 0), (3, 0), (2, 0), (1, 0), (0, 0), (0, 0), (0, 0), (0, 0), (0, 0), (0, 0)]\n",
      "Tail Positions: [(0, 0)]\n"
     ]
    }
   ],
   "source": [
    "process_lines(testlines2[0:1], debug=True)"
   ]
  },
  {
   "cell_type": "code",
   "execution_count": 38,
   "id": "98d650a3",
   "metadata": {},
   "outputs": [
    {
     "name": "stdout",
     "output_type": "stream",
     "text": [
      "1\n",
      "Knots: [(4, 4), (4, 3), (4, 2), (3, 2), (2, 2), (1, 2), (1, 1), (0, 0), (0, 0), (0, 0)]\n",
      "Tail Positions: [(0, 0)]\n"
     ]
    }
   ],
   "source": [
    "process_lines(testlines2[0:2], debug=True)"
   ]
  },
  {
   "cell_type": "markdown",
   "id": "00ecff8a",
   "metadata": {},
   "source": [
    "Subtle bug discovered through the above debugging: in part two, we can have one knot with both horizontal and vertical distance of 2 from its following knot, in which case we need to move along the diagonal by one space each."
   ]
  }
 ],
 "metadata": {
  "kernelspec": {
   "display_name": "Python [conda env:root] *",
   "language": "python",
   "name": "conda-root-py"
  },
  "language_info": {
   "codemirror_mode": {
    "name": "ipython",
    "version": 3
   },
   "file_extension": ".py",
   "mimetype": "text/x-python",
   "name": "python",
   "nbconvert_exporter": "python",
   "pygments_lexer": "ipython3",
   "version": "3.7.9"
  }
 },
 "nbformat": 4,
 "nbformat_minor": 5
}
