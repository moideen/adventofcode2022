{
 "cells": [
  {
   "cell_type": "code",
   "execution_count": 1,
   "id": "68e49d65",
   "metadata": {},
   "outputs": [],
   "source": [
    "# Advent of Code 2022 - Day 5\n",
    "# Moideen Kalladi\n",
    "\n",
    "# open and read input file\n",
    "with open(\"input.txt\", \"r\") as f:\n",
    "    lines = f.read().split(\"\\n\")"
   ]
  },
  {
   "cell_type": "code",
   "execution_count": 2,
   "id": "0c6e9ed7",
   "metadata": {},
   "outputs": [
    {
     "data": {
      "text/plain": [
       "['    [G]         [P]         [M]    ',\n",
       " '    [V]     [M] [W] [S]     [Q]    ',\n",
       " '    [N]     [N] [G] [H]     [T] [F]',\n",
       " '    [J]     [W] [V] [Q] [W] [F] [P]',\n",
       " '[C] [H]     [T] [T] [G] [B] [Z] [B]',\n",
       " '[S] [W] [S] [L] [F] [B] [P] [C] [H]',\n",
       " '[G] [M] [Q] [S] [Z] [T] [J] [D] [S]',\n",
       " '[B] [T] [M] [B] [J] [C] [T] [G] [N]',\n",
       " ' 1   2   3   4   5   6   7   8   9 ',\n",
       " '']"
      ]
     },
     "execution_count": 2,
     "metadata": {},
     "output_type": "execute_result"
    }
   ],
   "source": [
    "# have a look at first ten lines of input as a sanity check:\n",
    "lines[:10]"
   ]
  },
  {
   "cell_type": "code",
   "execution_count": 19,
   "id": "920648ce",
   "metadata": {},
   "outputs": [
    {
     "data": {
      "text/plain": [
       "{1: ['C', 'S', 'G', 'B'],\n",
       " 2: ['G', 'V', 'N', 'J', 'H', 'W', 'M', 'T'],\n",
       " 3: ['S', 'Q', 'M'],\n",
       " 4: ['M', 'N', 'W', 'T', 'L', 'S', 'B'],\n",
       " 5: ['P', 'W', 'G', 'V', 'T', 'F', 'Z', 'J'],\n",
       " 6: ['S', 'H', 'Q', 'G', 'B', 'T', 'C'],\n",
       " 7: ['W', 'B', 'P', 'J', 'T'],\n",
       " 8: ['M', 'Q', 'T', 'F', 'Z', 'C', 'D', 'G'],\n",
       " 9: ['F', 'P', 'B', 'H', 'S', 'N']}"
      ]
     },
     "execution_count": 19,
     "metadata": {},
     "output_type": "execute_result"
    }
   ],
   "source": [
    "# we'll model the crate storage using a dict of lists\n",
    "crates = {i: [] for i in range(1,10)}\n",
    "\n",
    "def parse_crate_line(input_line, crates=crates):\n",
    "    crate_line = [input_line[crate_position] for crate_position in range(1,34,4)]\n",
    "    for index, crate_name in enumerate(crate_line):\n",
    "        if crate_name == \" \":\n",
    "            continue\n",
    "        else:\n",
    "            crates[index+1].append(crate_name)\n",
    "\n",
    "for line in lines[:8]:\n",
    "    parse_crate_line(line)\n",
    "\n",
    "crates"
   ]
  },
  {
   "cell_type": "code",
   "execution_count": 15,
   "id": "d7e91eec",
   "metadata": {},
   "outputs": [],
   "source": [
    "# cool, now we have a data structure representing the stacks of crates"
   ]
  },
  {
   "cell_type": "code",
   "execution_count": 20,
   "id": "558cea3c",
   "metadata": {},
   "outputs": [
    {
     "data": {
      "text/plain": [
       "{1: ['C', 'S', 'F', 'T', 'M'],\n",
       " 2: ['F', 'L', 'M', 'P', 'B'],\n",
       " 3: ['F', 'B', 'T', 'W', 'B'],\n",
       " 4: ['H', 'T', 'P', 'Q', 'C', 'Z'],\n",
       " 5: ['V',\n",
       "  'G',\n",
       "  'D',\n",
       "  'M',\n",
       "  'M',\n",
       "  'Z',\n",
       "  'W',\n",
       "  'B',\n",
       "  'S',\n",
       "  'H',\n",
       "  'G',\n",
       "  'G',\n",
       "  'T',\n",
       "  'G',\n",
       "  'J',\n",
       "  'S',\n",
       "  'T'],\n",
       " 6: ['V'],\n",
       " 7: ['H', 'J', 'P', 'B', 'Q', 'Q', 'N', 'W', 'J'],\n",
       " 8: ['N', 'G', 'T', 'N'],\n",
       " 9: ['C', 'S', 'W', 'S']}"
      ]
     },
     "execution_count": 20,
     "metadata": {},
     "output_type": "execute_result"
    }
   ],
   "source": [
    "# function to parse each move line, we'll run it on all the move lines\n",
    "def parse_move_line(input_line, crates=crates):\n",
    "    input_line_tokens = input_line.split(\" \")\n",
    "    num_crates_to_move = int(input_line_tokens[1])\n",
    "    from_crate_index = int(input_line_tokens[3])\n",
    "    to_crate_index = int(input_line_tokens[5])\n",
    "    \n",
    "    # identify crates to move - reverse the list because they're moved one at a time\n",
    "    crates_to_move = reversed(crates[from_crate_index][:num_crates_to_move])\n",
    "    crates[to_crate_index] = list(crates_to_move) + crates[to_crate_index]\n",
    "    crates[from_crate_index] = crates[from_crate_index][num_crates_to_move:]\n",
    "\n",
    "for line in lines[10:]:\n",
    "    if line == \"\":\n",
    "        continue\n",
    "    else:\n",
    "        parse_move_line(line)\n",
    "\n",
    "crates"
   ]
  },
  {
   "cell_type": "code",
   "execution_count": 21,
   "id": "7a89a2a5",
   "metadata": {},
   "outputs": [],
   "source": [
    "# hmm why is index 5 vertical? anyway"
   ]
  },
  {
   "cell_type": "code",
   "execution_count": 23,
   "id": "715b0c1c",
   "metadata": {},
   "outputs": [
    {
     "data": {
      "text/plain": [
       "'CFFHVVHNC'"
      ]
     },
     "execution_count": 23,
     "metadata": {},
     "output_type": "execute_result"
    }
   ],
   "source": [
    "\"\".join([crates[idx][0] for idx in range(1,10)])"
   ]
  },
  {
   "cell_type": "code",
   "execution_count": 24,
   "id": "14fc6a43",
   "metadata": {},
   "outputs": [],
   "source": [
    "# for part 2, we just need to get rid of the reversal since the crates move all at once"
   ]
  },
  {
   "cell_type": "code",
   "execution_count": 25,
   "id": "3d598fe4",
   "metadata": {},
   "outputs": [
    {
     "data": {
      "text/plain": [
       "'FSZWBPTBG'"
      ]
     },
     "execution_count": 25,
     "metadata": {},
     "output_type": "execute_result"
    }
   ],
   "source": [
    "# we'll model the crate storage using a dict of lists\n",
    "# copy-pasting code is sad but fastest way\n",
    "\n",
    "crates = {i: [] for i in range(1,10)}\n",
    "\n",
    "def parse_crate_line(input_line, crates=crates):\n",
    "    crate_line = [input_line[crate_position] for crate_position in range(1,34,4)]\n",
    "    for index, crate_name in enumerate(crate_line):\n",
    "        if crate_name == \" \":\n",
    "            continue\n",
    "        else:\n",
    "            crates[index+1].append(crate_name)\n",
    "\n",
    "for line in lines[:8]:\n",
    "    parse_crate_line(line)\n",
    "\n",
    "\n",
    "# function to parse each move line, we'll run it on all the move lines\n",
    "def parse_move_line(input_line, crates=crates):\n",
    "    input_line_tokens = input_line.split(\" \")\n",
    "    num_crates_to_move = int(input_line_tokens[1])\n",
    "    from_crate_index = int(input_line_tokens[3])\n",
    "    to_crate_index = int(input_line_tokens[5])\n",
    "    \n",
    "    # identify crates to move - DON'T reverse the list because they're moved all at once\n",
    "    crates_to_move = crates[from_crate_index][:num_crates_to_move]\n",
    "    crates[to_crate_index] = list(crates_to_move) + crates[to_crate_index]\n",
    "    crates[from_crate_index] = crates[from_crate_index][num_crates_to_move:]\n",
    "\n",
    "for line in lines[10:]:\n",
    "    if line == \"\":\n",
    "        continue\n",
    "    else:\n",
    "        parse_move_line(line)\n",
    "\n",
    "\n",
    "\"\".join([crates[idx][0] for idx in range(1,10)])"
   ]
  }
 ],
 "metadata": {
  "kernelspec": {
   "display_name": "Python [conda env:root] *",
   "language": "python",
   "name": "conda-root-py"
  },
  "language_info": {
   "codemirror_mode": {
    "name": "ipython",
    "version": 3
   },
   "file_extension": ".py",
   "mimetype": "text/x-python",
   "name": "python",
   "nbconvert_exporter": "python",
   "pygments_lexer": "ipython3",
   "version": "3.7.9"
  }
 },
 "nbformat": 4,
 "nbformat_minor": 5
}
