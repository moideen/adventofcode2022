{
 "cells": [
  {
   "cell_type": "code",
   "execution_count": 11,
   "id": "6b20228d",
   "metadata": {},
   "outputs": [],
   "source": [
    "# Advent of Code 2022 - Day 13\n",
    "# Moideen Kalladi\n",
    "\n",
    "# open and read input file\n",
    "with open(\"input.txt\", \"r\") as f:\n",
    "    lines = f.read().split(\"\\n\")"
   ]
  },
  {
   "cell_type": "code",
   "execution_count": 12,
   "id": "0d48b4ea",
   "metadata": {},
   "outputs": [
    {
     "data": {
      "text/plain": [
       "['[[[],10,[],8,10],[[[],7,0,[10,0,1,10,4]],5],[8,[4,3],[[10,10,9,1],[3,0,6]],4],[[]],[]]',\n",
       " '',\n",
       " '']"
      ]
     },
     "execution_count": 12,
     "metadata": {},
     "output_type": "execute_result"
    }
   ],
   "source": [
    "lines[-3:]"
   ]
  },
  {
   "cell_type": "code",
   "execution_count": 13,
   "id": "145d43e2",
   "metadata": {},
   "outputs": [],
   "source": [
    "left_lines = []\n",
    "right_lines = []\n",
    "left_flag = True\n",
    "\n",
    "for line in lines[:-2]:\n",
    "    if line == \"\":\n",
    "        left_flag = True\n",
    "        continue\n",
    "    else:\n",
    "        if left_flag:\n",
    "            left_lines.append(line)\n",
    "        else:\n",
    "            right_lines.append(line)\n",
    "        left_flag = not left_flag"
   ]
  },
  {
   "cell_type": "code",
   "execution_count": 14,
   "id": "87b8b50f",
   "metadata": {},
   "outputs": [
    {
     "name": "stdout",
     "output_type": "stream",
     "text": [
      "150 150\n"
     ]
    }
   ],
   "source": [
    "print(len(left_lines), len(right_lines))"
   ]
  },
  {
   "cell_type": "code",
   "execution_count": 15,
   "id": "75cc533d",
   "metadata": {},
   "outputs": [
    {
     "data": {
      "text/plain": [
       "'[[1,4,7,4,8],[],[8,0,7,[],[]]]'"
      ]
     },
     "execution_count": 15,
     "metadata": {},
     "output_type": "execute_result"
    }
   ],
   "source": [
    "left_lines[0]"
   ]
  },
  {
   "cell_type": "code",
   "execution_count": 16,
   "id": "b0300404",
   "metadata": {},
   "outputs": [
    {
     "data": {
      "text/plain": [
       "'[[10,[5,[0,2,5,3,3],[9,7,9],6],7,9,[2,9,[],4,0]],[8]]'"
      ]
     },
     "execution_count": 16,
     "metadata": {},
     "output_type": "execute_result"
    }
   ],
   "source": [
    "right_lines[0]"
   ]
  },
  {
   "cell_type": "code",
   "execution_count": 19,
   "id": "30d70adf",
   "metadata": {},
   "outputs": [
    {
     "data": {
      "text/plain": [
       "'[[7],[7],[[[3,4,6],1,[1,2,4],[7,5,3,5,2]],[[1,3,2,7],10,[9,9,0,2]],[9],[1,[10,4,7],[5,2,1],[10,9,4,3]],[7,[8,9,9,4],[]]],[],[]]'"
      ]
     },
     "execution_count": 19,
     "metadata": {},
     "output_type": "execute_result"
    }
   ],
   "source": [
    "left_lines[1]"
   ]
  },
  {
   "cell_type": "code",
   "execution_count": 20,
   "id": "7733110a",
   "metadata": {},
   "outputs": [
    {
     "data": {
      "text/plain": [
       "'[[8,[[]],[7,3],4],[[[2,3]],10,[[4],[3,9,4],[0,6,5],1,3]],[],[]]'"
      ]
     },
     "execution_count": 20,
     "metadata": {},
     "output_type": "execute_result"
    }
   ],
   "source": [
    "right_lines[1]"
   ]
  },
  {
   "cell_type": "code",
   "execution_count": 17,
   "id": "7e3ba6f7",
   "metadata": {},
   "outputs": [],
   "source": [
    "# ok we're set in terms of the inputs"
   ]
  },
  {
   "cell_type": "code",
   "execution_count": 224,
   "id": "4fb3aa3f",
   "metadata": {},
   "outputs": [],
   "source": [
    "# we can eval these strings into Python lists - that should make things easier\n",
    "correct_indices = []\n",
    "\n",
    "def check_order(left_side, right_side):\n",
    "    \n",
    "    # print(f\"Compare {str(left_side)} vs {str(right_side)}\")\n",
    "    \n",
    "    if isinstance(left_side, int) and isinstance(right_side, int):\n",
    "        if left_side > right_side:\n",
    "            return -1\n",
    "        elif left_side == right_side:\n",
    "            return 0\n",
    "        else:\n",
    "            return 1\n",
    "    \n",
    "    if isinstance(left_side, list) and isinstance(right_side, list):\n",
    "        if len(left_side) == 0 and len(right_side) == 0:\n",
    "            return 0\n",
    "        elif len(left_side) == 0 and len(right_side) != 0:\n",
    "            return 1\n",
    "        elif len(left_side) == 0 and len(right_side) != 0:\n",
    "            return -1\n",
    "        else:\n",
    "            k = 0\n",
    "            rv = 0\n",
    "            while rv == 0 and k < len(left_side) and k < len(right_side):\n",
    "                rv = check_order(left_side[k], right_side[k])\n",
    "                if rv != 0:\n",
    "                    return rv\n",
    "                k += 1\n",
    "            if k >= len(left_side) and k < len(right_side):\n",
    "                return 1\n",
    "            if k < len(left_side) and k >= len(right_side):\n",
    "                return -1\n",
    "            # print(f\"k : {k}\\nleft: {left_side}\\nright: {right_side}\")\n",
    "            return 0\n",
    "               \n",
    "    if isinstance(left_side, list) and isinstance(right_side, int):\n",
    "        return check_order(left_side, [right_side])\n",
    "\n",
    "    if isinstance(left_side, int) and isinstance(right_side, list):\n",
    "        return check_order([left_side], right_side)\n"
   ]
  },
  {
   "cell_type": "code",
   "execution_count": 225,
   "id": "2a841861",
   "metadata": {},
   "outputs": [
    {
     "data": {
      "text/plain": [
       "6235"
      ]
     },
     "execution_count": 225,
     "metadata": {},
     "output_type": "execute_result"
    }
   ],
   "source": [
    "correct_indices = []\n",
    "\n",
    "for i in range(len(left_lines)):\n",
    "    ll = eval(left_lines[i])\n",
    "    rl = eval(right_lines[i])\n",
    "    \n",
    "    order = check_order(ll, rl)\n",
    "    \n",
    "    if order == 1:\n",
    "        correct_indices.append(i+1)\n",
    "\n",
    "sum(correct_indices)"
   ]
  },
  {
   "cell_type": "code",
   "execution_count": 226,
   "id": "f79aae2a",
   "metadata": {},
   "outputs": [],
   "source": [
    "# This took a LOT of debugging -- the basic issue was that I wasn't checking if both\n",
    "# left and right were empty at the beginning, in which case I should have been returning 0\n",
    "# but I was wrongly returning 1\n",
    "\n",
    "# onwards!\n",
    "\n",
    "# part 2"
   ]
  },
  {
   "cell_type": "code",
   "execution_count": 227,
   "id": "8b1ad4c7",
   "metadata": {},
   "outputs": [
    {
     "name": "stdout",
     "output_type": "stream",
     "text": [
      "[[2]] at 111\n",
      "[[6]] at 206\n"
     ]
    }
   ],
   "source": [
    "# ok so we need to merge sort the packets\n",
    "\n",
    "all_lines = left_lines + [\"[[2]]\"] + right_lines + [\"[[6]]\"]\n",
    "\n",
    "ordered_packets = []\n",
    "\n",
    "for i in range(len(all_lines)):\n",
    "    insert_at = 0\n",
    "    for k in range(len(ordered_packets)):\n",
    "        order = check_order(eval(all_lines[i]), eval(ordered_packets[k]))\n",
    "        # print(f\"all[{i}] vs op[{k}]: {order}\")\n",
    "        if order == 1:\n",
    "            break\n",
    "        else:\n",
    "            insert_at += 1\n",
    "    ordered_packets.insert(insert_at, all_lines[i])\n",
    "    # print(f\"{all_lines[i]} inserted at {insert_at}\")\n",
    "\n",
    "for i in range(len(ordered_packets)):\n",
    "    if ordered_packets[i] == \"[[2]]\":\n",
    "        print(f\"[[2]] at {i+1}\")\n",
    "    if ordered_packets[i] == \"[[6]]\":\n",
    "        print(f\"[[6]] at {i+1}\")"
   ]
  },
  {
   "cell_type": "code",
   "execution_count": 228,
   "id": "65531d3e",
   "metadata": {},
   "outputs": [
    {
     "data": {
      "text/plain": [
       "22866"
      ]
     },
     "execution_count": 228,
     "metadata": {},
     "output_type": "execute_result"
    }
   ],
   "source": [
    "111 * 206"
   ]
  }
 ],
 "metadata": {
  "kernelspec": {
   "display_name": "Python [conda env:root] *",
   "language": "python",
   "name": "conda-root-py"
  },
  "language_info": {
   "codemirror_mode": {
    "name": "ipython",
    "version": 3
   },
   "file_extension": ".py",
   "mimetype": "text/x-python",
   "name": "python",
   "nbconvert_exporter": "python",
   "pygments_lexer": "ipython3",
   "version": "3.7.9"
  }
 },
 "nbformat": 4,
 "nbformat_minor": 5
}
