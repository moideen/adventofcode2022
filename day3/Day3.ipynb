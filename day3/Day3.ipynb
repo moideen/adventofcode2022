{
 "cells": [
  {
   "cell_type": "code",
   "execution_count": 1,
   "id": "ccaefa41",
   "metadata": {},
   "outputs": [],
   "source": [
    "# let's explore this problem"
   ]
  },
  {
   "cell_type": "code",
   "execution_count": 2,
   "id": "0384f62e",
   "metadata": {},
   "outputs": [],
   "source": [
    "# open and read input file\n",
    "with open(\"input.txt\", \"r\") as f:\n",
    "    lines = f.read().split(\"\\n\")"
   ]
  },
  {
   "cell_type": "code",
   "execution_count": 3,
   "id": "50bbf305",
   "metadata": {},
   "outputs": [
    {
     "data": {
      "text/plain": [
       "['CDGbqCDbChSbWGrHcHRgbcVcfrLJ',\n",
       " 'frlTLmtllbbbdpJS',\n",
       " 'qFjhzjThjHTFGHTjqhhjMzBhVpVpdbBnSJQRpBnVVdbRRQJd',\n",
       " 'vjWPWjWPPPWgwmfCrNvTvZ',\n",
       " '']"
      ]
     },
     "execution_count": 3,
     "metadata": {},
     "output_type": "execute_result"
    }
   ],
   "source": [
    "#blank at the end?\n",
    "lines[-5:]"
   ]
  },
  {
   "cell_type": "code",
   "execution_count": 4,
   "id": "1764ecb5",
   "metadata": {},
   "outputs": [],
   "source": [
    "# yes"
   ]
  },
  {
   "cell_type": "code",
   "execution_count": null,
   "id": "f7830c69",
   "metadata": {},
   "outputs": [],
   "source": []
  }
 ],
 "metadata": {
  "kernelspec": {
   "display_name": "Python [conda env:root] *",
   "language": "python",
   "name": "conda-root-py"
  },
  "language_info": {
   "codemirror_mode": {
    "name": "ipython",
    "version": 3
   },
   "file_extension": ".py",
   "mimetype": "text/x-python",
   "name": "python",
   "nbconvert_exporter": "python",
   "pygments_lexer": "ipython3",
   "version": "3.7.9"
  }
 },
 "nbformat": 4,
 "nbformat_minor": 5
}
